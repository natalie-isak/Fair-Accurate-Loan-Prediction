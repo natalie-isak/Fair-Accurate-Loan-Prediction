{
 "cells": [
  {
   "cell_type": "code",
   "execution_count": 1,
   "id": "f1cc7277",
   "metadata": {},
   "outputs": [],
   "source": [
    "import numpy as np\n",
    "import pandas as pd\n",
    "import matplotlib.pyplot as plt \n",
    "import csv\n",
    "from sklearn.model_selection import train_test_split\n",
    "from sklearn.ensemble import RandomForestClassifier\n",
    "from sklearn import preprocessing"
   ]
  },
  {
   "cell_type": "code",
   "execution_count": 2,
   "id": "3d24ef60",
   "metadata": {},
   "outputs": [
    {
     "name": "stderr",
     "output_type": "stream",
     "text": [
      "/Users/natalieisak/opt/anaconda3/lib/python3.8/site-packages/IPython/core/interactiveshell.py:3165: DtypeWarning: Columns (34,36,38,44,46,48) have mixed types.Specify dtype option on import or set low_memory=False.\n",
      "  has_raised = await self.run_ast_nodes(code_ast.body, cell_name,\n"
     ]
    }
   ],
   "source": [
    "#import data\n",
    "data = pd.read_csv(\"17_dat.csv\") "
   ]
  },
  {
   "cell_type": "code",
   "execution_count": 3,
   "id": "7b618d0f",
   "metadata": {},
   "outputs": [
    {
     "data": {
      "text/plain": [
       "Index(['as_of_year', 'respondent_id', 'agency_name', 'agency_abbr',\n",
       "       'agency_code', 'loan_type_name', 'loan_type', 'property_type_name',\n",
       "       'property_type', 'loan_purpose_name', 'loan_purpose',\n",
       "       'owner_occupancy_name', 'owner_occupancy', 'loan_amount_000s',\n",
       "       'preapproval_name', 'preapproval', 'action_taken_name', 'action_taken',\n",
       "       'msamd_name', 'msamd', 'state_name', 'state_abbr', 'state_code',\n",
       "       'county_name', 'county_code', 'census_tract_number',\n",
       "       'applicant_ethnicity_name', 'applicant_ethnicity',\n",
       "       'co_applicant_ethnicity_name', 'co_applicant_ethnicity',\n",
       "       'applicant_race_name_1', 'applicant_race_1', 'applicant_race_name_2',\n",
       "       'applicant_race_2', 'applicant_race_name_3', 'applicant_race_3',\n",
       "       'applicant_race_name_4', 'applicant_race_4', 'applicant_race_name_5',\n",
       "       'applicant_race_5', 'co_applicant_race_name_1', 'co_applicant_race_1',\n",
       "       'co_applicant_race_name_2', 'co_applicant_race_2',\n",
       "       'co_applicant_race_name_3', 'co_applicant_race_3',\n",
       "       'co_applicant_race_name_4', 'co_applicant_race_4',\n",
       "       'co_applicant_race_name_5', 'co_applicant_race_5', 'applicant_sex_name',\n",
       "       'applicant_sex', 'co_applicant_sex_name', 'co_applicant_sex',\n",
       "       'applicant_income_000s', 'purchaser_type_name', 'purchaser_type',\n",
       "       'denial_reason_name_1', 'denial_reason_1', 'denial_reason_name_2',\n",
       "       'denial_reason_2', 'denial_reason_name_3', 'denial_reason_3',\n",
       "       'rate_spread', 'hoepa_status_name', 'hoepa_status', 'lien_status_name',\n",
       "       'lien_status', 'edit_status_name', 'edit_status', 'sequence_number',\n",
       "       'population', 'minority_population', 'hud_median_family_income',\n",
       "       'tract_to_msamd_income', 'number_of_owner_occupied_units',\n",
       "       'number_of_1_to_4_family_units', 'application_date_indicator'],\n",
       "      dtype='object')"
      ]
     },
     "execution_count": 3,
     "metadata": {},
     "output_type": "execute_result"
    }
   ],
   "source": [
    "#col names\n",
    "data.columns"
   ]
  },
  {
   "cell_type": "code",
   "execution_count": 4,
   "id": "77375cfb",
   "metadata": {},
   "outputs": [],
   "source": [
    "#1 -- Loan originated\n",
    "#2 -- Application approved but not accepted\n",
    "#3 -- Application denied by financial institution\n",
    "#7 -- Preapproval request denied by financial institution\n",
    "df_approved_loans = data[(data['action_taken'] == 1)]\n",
    "df_approved_loans = df_approved_loans.append(data[(data['action_taken'] == 2)])\n",
    "df_denied_loans = data[(data['action_taken'] == 3)] \n",
    "df_denied_loans = df_denied_loans.append(data[(data['action_taken'] == 7)])\n"
   ]
  },
  {
   "cell_type": "code",
   "execution_count": 5,
   "id": "2facf0da",
   "metadata": {},
   "outputs": [],
   "source": [
    "#generating approval col: 1 = approved, 0 = denied \n",
    "df_approved_loans['approved'] = np.ones(len(df_approved_loans))\n",
    "df_denied_loans['approved'] = np.zeros(len(df_approved_loans))"
   ]
  },
  {
   "cell_type": "code",
   "execution_count": 6,
   "id": "84548a9e",
   "metadata": {},
   "outputs": [],
   "source": [
    "#choosing relevent columns \n",
    "#x info located in df_tot, y info in approvals \n",
    "df_tot = df_approved_loans.append(df_denied_loans)\n",
    "approvals = df_tot['approved']\n",
    "df_tot = df_tot[['loan_type_name', 'loan_type', 'property_type_name',\n",
    "       'loan_purpose_name', 'loan_purpose',\n",
    "       'loan_amount_000s','state_name','county_code',\n",
    "       'applicant_ethnicity_name', \n",
    "       'applicant_race_name_1', 'applicant_race_name_2', 'applicant_race_name_3', \n",
    "       'applicant_race_name_4','applicant_race_name_5','applicant_race_5','applicant_sex_name',\n",
    "       'applicant_income_000s','lien_status_name', 'minority_population', 'hud_median_family_income']]"
   ]
  },
  {
   "cell_type": "code",
   "execution_count": null,
   "id": "6dd830e9",
   "metadata": {},
   "outputs": [],
   "source": [
    "#lable encoding \n",
    "le = preprocessing.LabelEncoder()\n",
    "df_tot_num = pd.DataFrame()\n",
    "for (columnName, columnData) in df_tot.iteritems():\n",
    "    df_tot_num[columnName] = le.fit_transform(columnData)"
   ]
  },
  {
   "cell_type": "code",
   "execution_count": null,
   "id": "4248c1f7",
   "metadata": {},
   "outputs": [],
   "source": [
    "#RF classifier \n",
    "X_train, X_test, y_train, y_test = train_test_split(df_tot_num, approvals, test_size=0.3)\n",
    "clf=RandomForestClassifier(n_estimators=100)\n",
    "clf.fit(X_train,y_train)\n",
    "y_pred=clf.predict(X_test)"
   ]
  },
  {
   "cell_type": "code",
   "execution_count": null,
   "id": "158cf6fc",
   "metadata": {},
   "outputs": [],
   "source": [
    "#analyzing feature importance \n",
    "feature_imp = pd.Series(clf.feature_importances_,index=iris.feature_names).sort_values(ascending=False)\n",
    "feature_imp"
   ]
  },
  {
   "cell_type": "code",
   "execution_count": null,
   "id": "d64f30a5",
   "metadata": {},
   "outputs": [],
   "source": []
  },
  {
   "cell_type": "code",
   "execution_count": null,
   "id": "92ef3153",
   "metadata": {},
   "outputs": [],
   "source": []
  },
  {
   "cell_type": "code",
   "execution_count": null,
   "id": "ffbd0a94",
   "metadata": {},
   "outputs": [],
   "source": []
  },
  {
   "cell_type": "code",
   "execution_count": null,
   "id": "189fb405",
   "metadata": {},
   "outputs": [],
   "source": []
  },
  {
   "cell_type": "code",
   "execution_count": null,
   "id": "efc08cff",
   "metadata": {},
   "outputs": [],
   "source": []
  }
 ],
 "metadata": {
  "kernelspec": {
   "display_name": "Python 3",
   "language": "python",
   "name": "python3"
  },
  "language_info": {
   "codemirror_mode": {
    "name": "ipython",
    "version": 3
   },
   "file_extension": ".py",
   "mimetype": "text/x-python",
   "name": "python",
   "nbconvert_exporter": "python",
   "pygments_lexer": "ipython3",
   "version": "3.8.8"
  }
 },
 "nbformat": 4,
 "nbformat_minor": 5
}
